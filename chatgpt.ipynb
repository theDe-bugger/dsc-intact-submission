{
 "cells": [
  {
   "cell_type": "code",
   "execution_count": 5,
   "metadata": {},
   "outputs": [],
   "source": [
    "import pandas as pd\n",
    "import re\n",
    "from sklearn.feature_extraction.text import CountVectorizer\n",
    "from sklearn.model_selection import train_test_split\n",
    "from sklearn.naive_bayes import MultinomialNB\n",
    "from sklearn.metrics import f1_score\n",
    "# Preprocess data\n",
    "def preprocess_text(text):\n",
    "    # Remove non-alphanumeric characters\n",
    "    text = re.sub(r'[^a-zA-Z0-9\\s]', '', text)\n",
    "    # Convert to lowercase\n",
    "    text = text.lower()\n",
    "    return text\n",
    "\n",
    "# Load the data\n",
    "df = pd.read_csv('new_train.csv')\n",
    "\n",
    "# Preprocess the data\n",
    "df['transcription'] = df['transcription'].apply(preprocess_text)\n",
    "\n",
    "# Split the data into training and test sets\n",
    "X_train, X_test, y_train, y_test = train_test_split(df['transcription'], df['medical_specialty'], test_size=0.2, random_state=42)\n"
   ]
  },
  {
   "cell_type": "code",
   "execution_count": 6,
   "metadata": {},
   "outputs": [
    {
     "data": {
      "text/plain": [
       "MultinomialNB()"
      ]
     },
     "execution_count": 6,
     "metadata": {},
     "output_type": "execute_result"
    }
   ],
   "source": [
    "# Convert the text data into numerical vectors\n",
    "vectorizer = CountVectorizer()\n",
    "X_train = vectorizer.fit_transform(X_train)\n",
    "X_test = vectorizer.transform(X_test)\n",
    "\n",
    "# Train the Multinomial Naive Bayes model\n",
    "clf = MultinomialNB()\n",
    "clf.fit(X_train, y_train)"
   ]
  },
  {
   "cell_type": "code",
   "execution_count": 7,
   "metadata": {},
   "outputs": [
    {
     "name": "stdout",
     "output_type": "stream",
     "text": [
      "F1-score (macro): 0.06364396310620246\n"
     ]
    }
   ],
   "source": [
    "\n",
    "# Make predictions on the test set\n",
    "y_pred = clf.predict(X_test)\n",
    "\n",
    "# Evaluate the performance of the model using F1-score with macro averaging\n",
    "f1_macro = f1_score(y_test, y_pred, average='macro')\n",
    "print('F1-score (macro):', f1_macro)"
   ]
  },
  {
   "cell_type": "code",
   "execution_count": 8,
   "metadata": {},
   "outputs": [
    {
     "name": "stdout",
     "output_type": "stream",
     "text": [
      "Fitting 5 folds for each of 12 candidates, totalling 60 fits\n",
      "[CV] END ..........................alpha=0.1, fit_prior=True; total time=   0.1s\n",
      "[CV] END ..........................alpha=0.1, fit_prior=True; total time=   0.1s\n",
      "[CV] END ..........................alpha=0.1, fit_prior=True; total time=   0.0s\n"
     ]
    },
    {
     "name": "stderr",
     "output_type": "stream",
     "text": [
      "/Users/jaimil.d/opt/anaconda3/lib/python3.9/site-packages/sklearn/model_selection/_split.py:676: UserWarning: The least populated class in y has only 4 members, which is less than n_splits=5.\n",
      "  warnings.warn(\n"
     ]
    },
    {
     "name": "stdout",
     "output_type": "stream",
     "text": [
      "[CV] END ..........................alpha=0.1, fit_prior=True; total time=   0.0s\n",
      "[CV] END ..........................alpha=0.1, fit_prior=True; total time=   0.0s\n",
      "[CV] END .........................alpha=0.1, fit_prior=False; total time=   0.1s\n",
      "[CV] END .........................alpha=0.1, fit_prior=False; total time=   0.0s\n",
      "[CV] END .........................alpha=0.1, fit_prior=False; total time=   0.1s\n",
      "[CV] END .........................alpha=0.1, fit_prior=False; total time=   0.1s\n",
      "[CV] END .........................alpha=0.1, fit_prior=False; total time=   0.0s\n",
      "[CV] END ..........................alpha=0.5, fit_prior=True; total time=   0.0s\n",
      "[CV] END ..........................alpha=0.5, fit_prior=True; total time=   0.0s\n",
      "[CV] END ..........................alpha=0.5, fit_prior=True; total time=   0.0s\n",
      "[CV] END ..........................alpha=0.5, fit_prior=True; total time=   0.1s\n",
      "[CV] END ..........................alpha=0.5, fit_prior=True; total time=   0.0s\n",
      "[CV] END .........................alpha=0.5, fit_prior=False; total time=   0.0s\n",
      "[CV] END .........................alpha=0.5, fit_prior=False; total time=   0.0s\n",
      "[CV] END .........................alpha=0.5, fit_prior=False; total time=   0.0s\n",
      "[CV] END .........................alpha=0.5, fit_prior=False; total time=   0.0s\n",
      "[CV] END .........................alpha=0.5, fit_prior=False; total time=   0.0s\n",
      "[CV] END ..........................alpha=1.0, fit_prior=True; total time=   0.0s\n",
      "[CV] END ..........................alpha=1.0, fit_prior=True; total time=   0.0s\n",
      "[CV] END ..........................alpha=1.0, fit_prior=True; total time=   0.0s\n",
      "[CV] END ..........................alpha=1.0, fit_prior=True; total time=   0.0s\n",
      "[CV] END ..........................alpha=1.0, fit_prior=True; total time=   0.0s\n",
      "[CV] END .........................alpha=1.0, fit_prior=False; total time=   0.0s\n",
      "[CV] END .........................alpha=1.0, fit_prior=False; total time=   0.0s\n",
      "[CV] END .........................alpha=1.0, fit_prior=False; total time=   0.0s\n",
      "[CV] END .........................alpha=1.0, fit_prior=False; total time=   0.1s\n",
      "[CV] END .........................alpha=1.0, fit_prior=False; total time=   0.0s\n",
      "[CV] END ..........................alpha=2.0, fit_prior=True; total time=   0.0s\n",
      "[CV] END ..........................alpha=2.0, fit_prior=True; total time=   0.0s\n",
      "[CV] END ..........................alpha=2.0, fit_prior=True; total time=   0.0s\n",
      "[CV] END ..........................alpha=2.0, fit_prior=True; total time=   0.1s\n",
      "[CV] END ..........................alpha=2.0, fit_prior=True; total time=   0.0s\n",
      "[CV] END .........................alpha=2.0, fit_prior=False; total time=   0.0s\n",
      "[CV] END .........................alpha=2.0, fit_prior=False; total time=   0.0s\n",
      "[CV] END .........................alpha=2.0, fit_prior=False; total time=   0.0s\n",
      "[CV] END .........................alpha=2.0, fit_prior=False; total time=   0.0s\n",
      "[CV] END .........................alpha=2.0, fit_prior=False; total time=   0.0s\n",
      "[CV] END ..........................alpha=5.0, fit_prior=True; total time=   0.0s\n",
      "[CV] END ..........................alpha=5.0, fit_prior=True; total time=   0.0s\n",
      "[CV] END ..........................alpha=5.0, fit_prior=True; total time=   0.0s\n",
      "[CV] END ..........................alpha=5.0, fit_prior=True; total time=   0.0s\n",
      "[CV] END ..........................alpha=5.0, fit_prior=True; total time=   0.0s\n",
      "[CV] END .........................alpha=5.0, fit_prior=False; total time=   0.1s\n",
      "[CV] END .........................alpha=5.0, fit_prior=False; total time=   0.0s\n",
      "[CV] END .........................alpha=5.0, fit_prior=False; total time=   0.0s\n",
      "[CV] END .........................alpha=5.0, fit_prior=False; total time=   0.0s\n",
      "[CV] END .........................alpha=5.0, fit_prior=False; total time=   0.0s\n",
      "[CV] END .........................alpha=10.0, fit_prior=True; total time=   0.0s\n",
      "[CV] END .........................alpha=10.0, fit_prior=True; total time=   0.0s\n",
      "[CV] END .........................alpha=10.0, fit_prior=True; total time=   0.0s\n",
      "[CV] END .........................alpha=10.0, fit_prior=True; total time=   0.0s\n",
      "[CV] END .........................alpha=10.0, fit_prior=True; total time=   0.0s\n",
      "[CV] END ........................alpha=10.0, fit_prior=False; total time=   0.0s\n",
      "[CV] END ........................alpha=10.0, fit_prior=False; total time=   0.0s\n",
      "[CV] END ........................alpha=10.0, fit_prior=False; total time=   0.0s\n",
      "[CV] END ........................alpha=10.0, fit_prior=False; total time=   0.0s\n",
      "[CV] END ........................alpha=10.0, fit_prior=False; total time=   0.0s\n",
      "Best hyperparameters:  {'alpha': 0.1, 'fit_prior': False}\n",
      "Best F1-score on test set: 0.2199\n"
     ]
    }
   ],
   "source": [
    "from sklearn.model_selection import GridSearchCV\n",
    "\n",
    "# Define the range of hyperparameters to search over\n",
    "param_grid = {\n",
    "    'alpha': [0.1, 0.5, 1.0, 2.0, 5.0, 10.0],\n",
    "    'fit_prior': [True, False],\n",
    "}\n",
    "\n",
    "# Create an instance of the Multinomial Naive Bayes model\n",
    "nb = MultinomialNB()\n",
    "\n",
    "# Create an instance of GridSearchCV and fit the training data\n",
    "grid_search = GridSearchCV(nb, param_grid, cv=5, scoring='f1_macro', verbose=2)\n",
    "grid_search.fit(X_train, y_train)\n",
    "\n",
    "# Print the best set of hyperparameters and the corresponding F1-score on the test set\n",
    "print(\"Best hyperparameters: \", grid_search.best_params_)\n",
    "print(\"Best F1-score on test set: {:.4f}\".format(grid_search.best_score_))\n"
   ]
  },
  {
   "cell_type": "code",
   "execution_count": 14,
   "metadata": {},
   "outputs": [
    {
     "name": "stdout",
     "output_type": "stream",
     "text": [
      "Fitting 5 folds for each of 6 candidates, totalling 30 fits\n"
     ]
    },
    {
     "name": "stderr",
     "output_type": "stream",
     "text": [
      "/Users/jaimil.d/opt/anaconda3/lib/python3.9/site-packages/sklearn/model_selection/_split.py:676: UserWarning: The least populated class in y has only 4 members, which is less than n_splits=5.\n",
      "  warnings.warn(\n"
     ]
    },
    {
     "name": "stdout",
     "output_type": "stream",
     "text": [
      "Best hyperparameters:  {'alpha': 1.0, 'fit_prior': False}\n",
      "Best F1-score on test set: 0.0454\n",
      "                                precision    recall  f1-score   support\n",
      "\n",
      "          Allergy / Immunology       0.00      0.00      0.00         1\n",
      "                       Autopsy       0.00      0.00      0.00         2\n",
      "                    Bariatrics       0.00      0.00      0.00         1\n",
      "    Cardiovascular / Pulmonary       0.39      0.16      0.23        57\n",
      "                  Chiropractic       0.00      0.00      0.00         4\n",
      "    Consult - History and Phy.       0.24      0.98      0.39        83\n",
      "    Cosmetic / Plastic Surgery       0.00      0.00      0.00         3\n",
      "                     Dentistry       0.00      0.00      0.00         1\n",
      "                   Dermatology       0.00      0.00      0.00         2\n",
      "             Discharge Summary       0.00      0.00      0.00        17\n",
      "          ENT - Otolaryngology       0.00      0.00      0.00        23\n",
      "        Emergency Room Reports       0.00      0.00      0.00        14\n",
      "                 Endocrinology       0.00      0.00      0.00         6\n",
      "              Gastroenterology       0.00      0.00      0.00        37\n",
      "              General Medicine       0.00      0.00      0.00        59\n",
      "         Hematology - Oncology       0.00      0.00      0.00        16\n",
      "        IME-QME-Work Comp etc.       0.00      0.00      0.00         2\n",
      "      Lab Medicine - Pathology       0.00      0.00      0.00         1\n",
      "                       Letters       0.00      0.00      0.00         3\n",
      "                    Nephrology       0.00      0.00      0.00        15\n",
      "                     Neurology       0.33      0.26      0.29        31\n",
      "                  Neurosurgery       0.00      0.00      0.00        14\n",
      "       Obstetrics / Gynecology       0.00      0.00      0.00        18\n",
      "                  Office Notes       0.00      0.00      0.00        10\n",
      "                 Ophthalmology       0.00      0.00      0.00        14\n",
      "                    Orthopedic       0.54      0.11      0.19        62\n",
      "               Pain Management       0.00      0.00      0.00        17\n",
      "         Pediatrics - Neonatal       0.00      0.00      0.00        12\n",
      "     Physical Medicine - Rehab       0.00      0.00      0.00         6\n",
      "                      Podiatry       0.00      0.00      0.00         9\n",
      "       Psychiatry / Psychology       0.00      0.00      0.00         7\n",
      "                     Radiology       0.12      0.02      0.04        41\n",
      "                  Rheumatology       0.00      0.00      0.00         1\n",
      " SOAP / Chart / Progress Notes       0.00      0.00      0.00        20\n",
      "                Sleep Medicine       0.00      0.00      0.00         4\n",
      "                       Surgery       0.39      0.96      0.55       154\n",
      "                       Urology       0.00      0.00      0.00        27\n",
      "\n",
      "                      accuracy                           0.32       794\n",
      "                     macro avg       0.05      0.07      0.05       794\n",
      "                  weighted avg       0.19      0.32      0.19       794\n",
      "\n"
     ]
    },
    {
     "name": "stderr",
     "output_type": "stream",
     "text": [
      "/Users/jaimil.d/opt/anaconda3/lib/python3.9/site-packages/sklearn/metrics/_classification.py:1318: UndefinedMetricWarning: Precision and F-score are ill-defined and being set to 0.0 in labels with no predicted samples. Use `zero_division` parameter to control this behavior.\n",
      "  _warn_prf(average, modifier, msg_start, len(result))\n",
      "/Users/jaimil.d/opt/anaconda3/lib/python3.9/site-packages/sklearn/metrics/_classification.py:1318: UndefinedMetricWarning: Precision and F-score are ill-defined and being set to 0.0 in labels with no predicted samples. Use `zero_division` parameter to control this behavior.\n",
      "  _warn_prf(average, modifier, msg_start, len(result))\n",
      "/Users/jaimil.d/opt/anaconda3/lib/python3.9/site-packages/sklearn/metrics/_classification.py:1318: UndefinedMetricWarning: Precision and F-score are ill-defined and being set to 0.0 in labels with no predicted samples. Use `zero_division` parameter to control this behavior.\n",
      "  _warn_prf(average, modifier, msg_start, len(result))\n"
     ]
    }
   ],
   "source": [
    "import pandas as pd\n",
    "import numpy as np\n",
    "from sklearn.model_selection import train_test_split, GridSearchCV\n",
    "from sklearn.feature_extraction.text import CountVectorizer, TfidfVectorizer\n",
    "from sklearn.naive_bayes import MultinomialNB\n",
    "from sklearn.metrics import f1_score, classification_report\n",
    "\n",
    "# Load data\n",
    "df = pd.read_csv('new_train.csv')\n",
    "\n",
    "# Split into train and test sets\n",
    "train_df, test_df = train_test_split(df, test_size=0.2, random_state=42)\n",
    "\n",
    "# Preprocess data\n",
    "vectorizer = TfidfVectorizer(stop_words=\"english\")\n",
    "X_train = vectorizer.fit_transform(train_df[\"transcription\"])\n",
    "X_test = vectorizer.transform(test_df[\"transcription\"])\n",
    "y_train = train_df[\"medical_specialty\"]\n",
    "y_test = test_df[\"medical_specialty\"]\n",
    "\n",
    "# Hyperparameter tuning\n",
    "param_grid = {\"alpha\": [0.01, 0.1, 1.0],\n",
    "              \"fit_prior\": [True, False]}\n",
    "clf = MultinomialNB()\n",
    "grid_search = GridSearchCV(clf, param_grid=param_grid, cv=5, n_jobs=-1, verbose=1)\n",
    "grid_search.fit(X_train, y_train)\n",
    "print(\"Best hyperparameters: \", grid_search.best_params_)\n",
    "\n",
    "# Train and evaluate model\n",
    "clf = MultinomialNB(alpha=grid_search.best_params_[\"alpha\"], fit_prior=grid_search.best_params_[\"fit_prior\"])\n",
    "clf.fit(X_train, y_train)\n",
    "y_pred = clf.predict(X_test)\n",
    "print(\"Best F1-score on test set: {:.4f}\".format(f1_score(y_test, y_pred, average=\"macro\")))\n",
    "print(classification_report(y_test, y_pred))\n"
   ]
  },
  {
   "cell_type": "code",
   "execution_count": null,
   "metadata": {},
   "outputs": [],
   "source": []
  }
 ],
 "metadata": {
  "kernelspec": {
   "display_name": "base",
   "language": "python",
   "name": "python3"
  },
  "language_info": {
   "codemirror_mode": {
    "name": "ipython",
    "version": 3
   },
   "file_extension": ".py",
   "mimetype": "text/x-python",
   "name": "python",
   "nbconvert_exporter": "python",
   "pygments_lexer": "ipython3",
   "version": "3.9.13"
  },
  "orig_nbformat": 4,
  "vscode": {
   "interpreter": {
    "hash": "7f8ec6f28e93224bb2ada3a2a194db73b00dcd966a9e840c842102dd5dabe3c2"
   }
  }
 },
 "nbformat": 4,
 "nbformat_minor": 2
}
